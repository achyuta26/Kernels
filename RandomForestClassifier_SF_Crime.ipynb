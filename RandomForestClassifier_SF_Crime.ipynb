{
 "cells": [
  {
   "cell_type": "markdown",
   "metadata": {},
   "source": [
    "# SF Crime Dataset\n",
    "\n",
    "The San Francisco government releases crime data publically on their [website](https://na01.safelinks.protection.outlook.com/?url=https%3A%2F%2Fdata.sfgov.org%2FPublic-Safety%2FPolice-Department-Incident-Reports-Historical-2003%2Ftmnf-yvry&data=02%7C01%7Canj29%40psu.edu%7C3845569ec38a4e99dfb008d68a4efc84%7C7cf48d453ddb4389a9c1c115526eb52e%7C0%7C0%7C636848469187033158&sdata=0tibBL%2F90TsVmuAlHcBnG1uMNijGB85zmC19ezAjVqA%3D&reserved=0) \n",
    "\n",
    "This notebook analyses the crime dataset and gives insight about:\n",
    "\n",
    "* Most dangerous area of SF using heatmap.\n",
    "* Top 3 crimes per Police Department District\n",
    "* Trend of crimes through a day\n",
    "* Most type of crimes through the week\n",
    "* Types of Resolution of crimes\n",
    "* Classification of model using ensembling technique: RandomForestClassifier\n",
    "* Hyperparameter Tuning using GridSearchCV"
   ]
  },
  {
   "cell_type": "code",
   "execution_count": 9,
   "metadata": {},
   "outputs": [],
   "source": [
    "%matplotlib inline\n",
    "import warnings\n",
    "warnings.filterwarnings(\"ignore\")"
   ]
  },
  {
   "cell_type": "markdown",
   "metadata": {},
   "source": [
    "### Configure notebook for loading Google Maps"
   ]
  },
  {
   "cell_type": "code",
   "execution_count": 1,
   "metadata": {},
   "outputs": [
    {
     "name": "stdout",
     "output_type": "stream",
     "text": [
      "Enabling notebook extension jupyter-js-widgets/extension...\r\n",
      "      - Validating: \u001b[32mOK\u001b[0m\r\n"
     ]
    }
   ],
   "source": [
    "!jupyter nbextension enable --py --sys-prefix widgetsnbextension"
   ]
  },
  {
   "cell_type": "code",
   "execution_count": 3,
   "metadata": {},
   "outputs": [
    {
     "name": "stdout",
     "output_type": "stream",
     "text": [
      "Enabling notebook extension jupyter-gmaps/extension...\r\n",
      "      - Validating: \u001b[32mOK\u001b[0m\r\n"
     ]
    }
   ],
   "source": [
    "!jupyter nbextension enable --py --sys-prefix gmaps"
   ]
  },
  {
   "cell_type": "code",
   "execution_count": 4,
   "metadata": {},
   "outputs": [],
   "source": [
    "import gmaps"
   ]
  },
  {
   "cell_type": "code",
   "execution_count": 11,
   "metadata": {},
   "outputs": [],
   "source": [
    "import gmaps.datasets\n",
    "api_key=\"\"           # Insert Your Google API key\n",
    "gmaps.configure(api_key=api_key) "
   ]
  },
  {
   "cell_type": "code",
   "execution_count": 7,
   "metadata": {},
   "outputs": [
    {
     "name": "stdout",
     "output_type": "stream",
     "text": [
      "Enabling notebook extension jupyter-gmaps/extension...\r\n",
      "      - Validating: \u001b[32mOK\u001b[0m\r\n"
     ]
    }
   ],
   "source": [
    "!jupyter nbextension enable --py gmaps"
   ]
  },
  {
   "cell_type": "code",
   "execution_count": 1,
   "metadata": {},
   "outputs": [],
   "source": [
    "import pandas as pd"
   ]
  },
  {
   "cell_type": "code",
   "execution_count": 4,
   "metadata": {},
   "outputs": [
    {
     "name": "stdout",
     "output_type": "stream",
     "text": [
      "CPU times: user 5.74 s, sys: 558 ms, total: 6.3 s\n",
      "Wall time: 6.5 s\n"
     ]
    }
   ],
   "source": [
    "%%time\n",
    "sf_crime_Data = pd.read_csv(\"./Data/Police_Department_Incident_Reports__Historical_2003_to_May_2018.csv\")"
   ]
  },
  {
   "cell_type": "code",
   "execution_count": 5,
   "metadata": {},
   "outputs": [],
   "source": [
    "sf_crime_Data['TS'] = sf_crime_Data.Date+\" \"+sf_crime_Data.Time"
   ]
  },
  {
   "cell_type": "code",
   "execution_count": 6,
   "metadata": {},
   "outputs": [],
   "source": [
    "sf_crime_Data.TS = pd.to_datetime(sf_crime_Data.TS, format=\"%m/%d/%Y %H:%M\")"
   ]
  },
  {
   "cell_type": "code",
   "execution_count": 11,
   "metadata": {},
   "outputs": [],
   "source": [
    "sf_crime_Data.set_index('TS',inplace=True,drop=True)"
   ]
  },
  {
   "cell_type": "code",
   "execution_count": 21,
   "metadata": {},
   "outputs": [],
   "source": [
    "sf_crime_Data.sort_index(inplace=True)"
   ]
  },
  {
   "cell_type": "markdown",
   "metadata": {},
   "source": [
    "**Taking excerpt of data from 1st Jan 2017**"
   ]
  },
  {
   "cell_type": "code",
   "execution_count": 25,
   "metadata": {},
   "outputs": [
    {
     "data": {
      "text/plain": [
       "(Timestamp('2018-05-15 10:30:00'), Timestamp('2017-01-01 00:01:00'))"
      ]
     },
     "execution_count": 25,
     "metadata": {},
     "output_type": "execute_result"
    }
   ],
   "source": [
    "data_extract_Df = sf_crime_Data.loc['2017-01-01':]\n",
    "data_extract_Df.index.max(),data_extract_Df.index.min()"
   ]
  },
  {
   "cell_type": "code",
   "execution_count": 32,
   "metadata": {},
   "outputs": [],
   "source": [
    "data_extract_Df.to_csv('./Data/data_extract.csv')"
   ]
  },
  {
   "cell_type": "code",
   "execution_count": 26,
   "metadata": {},
   "outputs": [
    {
     "data": {
      "text/plain": [
       "201441"
      ]
     },
     "execution_count": 26,
     "metadata": {},
     "output_type": "execute_result"
    }
   ],
   "source": [
    "len(data_extract_Df)"
   ]
  },
  {
   "cell_type": "code",
   "execution_count": 33,
   "metadata": {},
   "outputs": [
    {
     "data": {
      "text/plain": [
       "15"
      ]
     },
     "execution_count": 33,
     "metadata": {},
     "output_type": "execute_result"
    }
   ],
   "source": [
    "len(data_extract_Df.Resolution.unique())"
   ]
  },
  {
   "cell_type": "code",
   "execution_count": 27,
   "metadata": {},
   "outputs": [
    {
     "data": {
      "text/html": [
       "<div>\n",
       "<style>\n",
       "    .dataframe thead tr:only-child th {\n",
       "        text-align: right;\n",
       "    }\n",
       "\n",
       "    .dataframe thead th {\n",
       "        text-align: left;\n",
       "    }\n",
       "\n",
       "    .dataframe tbody tr th {\n",
       "        vertical-align: top;\n",
       "    }\n",
       "</style>\n",
       "<table border=\"1\" class=\"dataframe\">\n",
       "  <thead>\n",
       "    <tr style=\"text-align: right;\">\n",
       "      <th></th>\n",
       "      <th>IncidntNum</th>\n",
       "      <th>Category</th>\n",
       "      <th>Descript</th>\n",
       "      <th>DayOfWeek</th>\n",
       "      <th>Date</th>\n",
       "      <th>Time</th>\n",
       "      <th>PdDistrict</th>\n",
       "      <th>Resolution</th>\n",
       "      <th>Address</th>\n",
       "      <th>X</th>\n",
       "      <th>Y</th>\n",
       "      <th>Location</th>\n",
       "      <th>PdId</th>\n",
       "    </tr>\n",
       "    <tr>\n",
       "      <th>TS</th>\n",
       "      <th></th>\n",
       "      <th></th>\n",
       "      <th></th>\n",
       "      <th></th>\n",
       "      <th></th>\n",
       "      <th></th>\n",
       "      <th></th>\n",
       "      <th></th>\n",
       "      <th></th>\n",
       "      <th></th>\n",
       "      <th></th>\n",
       "      <th></th>\n",
       "      <th></th>\n",
       "    </tr>\n",
       "  </thead>\n",
       "  <tbody>\n",
       "    <tr>\n",
       "      <th>2017-01-01 00:01:00</th>\n",
       "      <td>170583332</td>\n",
       "      <td>OTHER OFFENSES</td>\n",
       "      <td>FALSE PERSONATION</td>\n",
       "      <td>Sunday</td>\n",
       "      <td>01/01/2017</td>\n",
       "      <td>00:01</td>\n",
       "      <td>BAYVIEW</td>\n",
       "      <td>NONE</td>\n",
       "      <td>1100 Block of WISCONSIN ST</td>\n",
       "      <td>-122.398473</td>\n",
       "      <td>37.753148</td>\n",
       "      <td>(37.75314834602312, -122.3984731227604)</td>\n",
       "      <td>17058333209027</td>\n",
       "    </tr>\n",
       "    <tr>\n",
       "      <th>2017-01-01 00:01:00</th>\n",
       "      <td>176008376</td>\n",
       "      <td>LARCENY/THEFT</td>\n",
       "      <td>PETTY THEFT OF PROPERTY</td>\n",
       "      <td>Sunday</td>\n",
       "      <td>01/01/2017</td>\n",
       "      <td>00:01</td>\n",
       "      <td>TARAVAL</td>\n",
       "      <td>NONE</td>\n",
       "      <td>1200 Block of OCEAN AV</td>\n",
       "      <td>-122.455616</td>\n",
       "      <td>37.723859</td>\n",
       "      <td>(37.72385901200105, -122.45561586153802)</td>\n",
       "      <td>17600837606372</td>\n",
       "    </tr>\n",
       "    <tr>\n",
       "      <th>2017-01-01 00:01:00</th>\n",
       "      <td>170152078</td>\n",
       "      <td>NON-CRIMINAL</td>\n",
       "      <td>LOST PROPERTY</td>\n",
       "      <td>Sunday</td>\n",
       "      <td>01/01/2017</td>\n",
       "      <td>00:01</td>\n",
       "      <td>MISSION</td>\n",
       "      <td>NONE</td>\n",
       "      <td>16TH ST / MISSION ST</td>\n",
       "      <td>-122.419672</td>\n",
       "      <td>37.765050</td>\n",
       "      <td>(37.76505012146682, -122.41967178029562)</td>\n",
       "      <td>17015207871000</td>\n",
       "    </tr>\n",
       "    <tr>\n",
       "      <th>2017-01-01 00:01:00</th>\n",
       "      <td>170730862</td>\n",
       "      <td>NON-CRIMINAL</td>\n",
       "      <td>LOST PROPERTY</td>\n",
       "      <td>Sunday</td>\n",
       "      <td>01/01/2017</td>\n",
       "      <td>00:01</td>\n",
       "      <td>TARAVAL</td>\n",
       "      <td>NONE</td>\n",
       "      <td>4600 Block of LINCOLN WY</td>\n",
       "      <td>-122.507802</td>\n",
       "      <td>37.764007</td>\n",
       "      <td>(37.76400685085615, -122.5078015077359)</td>\n",
       "      <td>17073086271000</td>\n",
       "    </tr>\n",
       "    <tr>\n",
       "      <th>2017-01-01 00:01:00</th>\n",
       "      <td>171033817</td>\n",
       "      <td>SUSPICIOUS OCC</td>\n",
       "      <td>SUSPICIOUS OCCURRENCE</td>\n",
       "      <td>Sunday</td>\n",
       "      <td>01/01/2017</td>\n",
       "      <td>00:01</td>\n",
       "      <td>TENDERLOIN</td>\n",
       "      <td>NONE</td>\n",
       "      <td>100 Block of GOLDEN GATE AV</td>\n",
       "      <td>-122.413070</td>\n",
       "      <td>37.782020</td>\n",
       "      <td>(37.78202042558663, -122.4130699263972)</td>\n",
       "      <td>17103381764070</td>\n",
       "    </tr>\n",
       "  </tbody>\n",
       "</table>\n",
       "</div>"
      ],
      "text/plain": [
       "                     IncidntNum        Category                 Descript  \\\n",
       "TS                                                                         \n",
       "2017-01-01 00:01:00   170583332  OTHER OFFENSES        FALSE PERSONATION   \n",
       "2017-01-01 00:01:00   176008376   LARCENY/THEFT  PETTY THEFT OF PROPERTY   \n",
       "2017-01-01 00:01:00   170152078    NON-CRIMINAL            LOST PROPERTY   \n",
       "2017-01-01 00:01:00   170730862    NON-CRIMINAL            LOST PROPERTY   \n",
       "2017-01-01 00:01:00   171033817  SUSPICIOUS OCC    SUSPICIOUS OCCURRENCE   \n",
       "\n",
       "                    DayOfWeek        Date   Time  PdDistrict Resolution  \\\n",
       "TS                                                                        \n",
       "2017-01-01 00:01:00    Sunday  01/01/2017  00:01     BAYVIEW       NONE   \n",
       "2017-01-01 00:01:00    Sunday  01/01/2017  00:01     TARAVAL       NONE   \n",
       "2017-01-01 00:01:00    Sunday  01/01/2017  00:01     MISSION       NONE   \n",
       "2017-01-01 00:01:00    Sunday  01/01/2017  00:01     TARAVAL       NONE   \n",
       "2017-01-01 00:01:00    Sunday  01/01/2017  00:01  TENDERLOIN       NONE   \n",
       "\n",
       "                                         Address           X          Y  \\\n",
       "TS                                                                        \n",
       "2017-01-01 00:01:00   1100 Block of WISCONSIN ST -122.398473  37.753148   \n",
       "2017-01-01 00:01:00       1200 Block of OCEAN AV -122.455616  37.723859   \n",
       "2017-01-01 00:01:00         16TH ST / MISSION ST -122.419672  37.765050   \n",
       "2017-01-01 00:01:00     4600 Block of LINCOLN WY -122.507802  37.764007   \n",
       "2017-01-01 00:01:00  100 Block of GOLDEN GATE AV -122.413070  37.782020   \n",
       "\n",
       "                                                     Location            PdId  \n",
       "TS                                                                             \n",
       "2017-01-01 00:01:00   (37.75314834602312, -122.3984731227604)  17058333209027  \n",
       "2017-01-01 00:01:00  (37.72385901200105, -122.45561586153802)  17600837606372  \n",
       "2017-01-01 00:01:00  (37.76505012146682, -122.41967178029562)  17015207871000  \n",
       "2017-01-01 00:01:00   (37.76400685085615, -122.5078015077359)  17073086271000  \n",
       "2017-01-01 00:01:00   (37.78202042558663, -122.4130699263972)  17103381764070  "
      ]
     },
     "execution_count": 27,
     "metadata": {},
     "output_type": "execute_result"
    }
   ],
   "source": [
    "data_extract_Df.head()"
   ]
  },
  {
   "cell_type": "code",
   "execution_count": 4,
   "metadata": {},
   "outputs": [
    {
     "data": {
      "text/plain": [
       "Index([u'IncidntNum', u'Category', u'Descript', u'DayOfWeek', u'Date', u'Time',\n",
       "       u'PdDistrict', u'Resolution', u'Address', u'X', u'Y', u'Location',\n",
       "       u'PdId'],\n",
       "      dtype='object')"
      ]
     },
     "execution_count": 4,
     "metadata": {},
     "output_type": "execute_result"
    }
   ],
   "source": [
    "sf_crime_Data.columns"
   ]
  },
  {
   "cell_type": "code",
   "execution_count": 17,
   "metadata": {},
   "outputs": [
    {
     "data": {
      "text/plain": [
       "0     (37.7617007179518, -122.42158168137)\n",
       "1    (37.7841907151119, -122.414406029855)\n",
       "Name: Location, dtype: object"
      ]
     },
     "execution_count": 17,
     "metadata": {},
     "output_type": "execute_result"
    }
   ],
   "source": [
    "sf_crime_Data.Location[:2]"
   ]
  },
  {
   "cell_type": "code",
   "execution_count": 18,
   "metadata": {},
   "outputs": [
    {
     "data": {
      "text/plain": [
       "(0   -122.421582\n",
       " 1   -122.414406\n",
       " Name: X, dtype: float64, 0    37.761701\n",
       " 1    37.784191\n",
       " Name: Y, dtype: float64)"
      ]
     },
     "execution_count": 18,
     "metadata": {},
     "output_type": "execute_result"
    }
   ],
   "source": [
    "sf_crime_Data.X[:2],sf_crime_Data.Y[:2]"
   ]
  },
  {
   "cell_type": "code",
   "execution_count": 26,
   "metadata": {},
   "outputs": [],
   "source": [
    "sf_locations = zip(sf_crime_Data.Y,sf_crime_Data.X)"
   ]
  },
  {
   "cell_type": "code",
   "execution_count": 27,
   "metadata": {},
   "outputs": [
    {
     "data": {
      "text/plain": [
       "[(37.761700717951797, -122.42158168136999),\n",
       " (37.784190715111897, -122.414406029855),\n",
       " (37.784190715111897, -122.414406029855),\n",
       " (37.784190715111897, -122.414406029855),\n",
       " (37.800468704287503, -122.43111854378799),\n",
       " (37.7870853907529, -122.451781767894),\n",
       " (37.729203356539003, -122.374019331833),\n",
       " (37.729203356539003, -122.374019331833),\n",
       " (37.787809295956102, -122.40656817786999),\n",
       " (37.786257854586502, -122.417295322526)]"
      ]
     },
     "execution_count": 27,
     "metadata": {},
     "output_type": "execute_result"
    }
   ],
   "source": [
    "sf_locations[:10]"
   ]
  },
  {
   "cell_type": "markdown",
   "metadata": {},
   "source": [
    "### generate random sample of 2000 crimes in SF for HeatMap"
   ]
  },
  {
   "cell_type": "code",
   "execution_count": 25,
   "metadata": {},
   "outputs": [],
   "source": [
    "import numpy as np"
   ]
  },
  {
   "cell_type": "code",
   "execution_count": 68,
   "metadata": {},
   "outputs": [],
   "source": [
    "index=np.random.randint(len(np_loc),size=2000)"
   ]
  },
  {
   "cell_type": "code",
   "execution_count": 69,
   "metadata": {},
   "outputs": [
    {
     "data": {
      "text/plain": [
       "2000"
      ]
     },
     "execution_count": 69,
     "metadata": {},
     "output_type": "execute_result"
    }
   ],
   "source": [
    "len(index)"
   ]
  },
  {
   "cell_type": "code",
   "execution_count": 71,
   "metadata": {},
   "outputs": [],
   "source": [
    "sf_sample_crimes = np_loc[index]"
   ]
  },
  {
   "cell_type": "code",
   "execution_count": 72,
   "metadata": {},
   "outputs": [
    {
     "data": {
      "text/plain": [
       "(2000, 2)"
      ]
     },
     "execution_count": 72,
     "metadata": {},
     "output_type": "execute_result"
    }
   ],
   "source": [
    "sf_sample_crimes.shape"
   ]
  },
  {
   "cell_type": "code",
   "execution_count": 73,
   "metadata": {},
   "outputs": [],
   "source": [
    "sf_sample_locations =list(map(tuple, sf_sample_crimes))"
   ]
  },
  {
   "cell_type": "code",
   "execution_count": 74,
   "metadata": {},
   "outputs": [],
   "source": [
    "fig = gmaps.figure()\n",
    "fig.add_layer(gmaps.heatmap_layer(sf_sample_locations))"
   ]
  },
  {
   "cell_type": "code",
   "execution_count": 30,
   "metadata": {},
   "outputs": [],
   "source": [
    "import matplotlib.pyplot as plt\n",
    "import seaborn as sns"
   ]
  },
  {
   "cell_type": "code",
   "execution_count": 5,
   "metadata": {},
   "outputs": [
    {
     "data": {
      "text/html": [
       "<div>\n",
       "<style>\n",
       "    .dataframe thead tr:only-child th {\n",
       "        text-align: right;\n",
       "    }\n",
       "\n",
       "    .dataframe thead th {\n",
       "        text-align: left;\n",
       "    }\n",
       "\n",
       "    .dataframe tbody tr th {\n",
       "        vertical-align: top;\n",
       "    }\n",
       "</style>\n",
       "<table border=\"1\" class=\"dataframe\">\n",
       "  <thead>\n",
       "    <tr style=\"text-align: right;\">\n",
       "      <th></th>\n",
       "      <th>IncidntNum</th>\n",
       "      <th>Category</th>\n",
       "      <th>Descript</th>\n",
       "      <th>DayOfWeek</th>\n",
       "      <th>Date</th>\n",
       "      <th>Time</th>\n",
       "      <th>PdDistrict</th>\n",
       "      <th>Resolution</th>\n",
       "      <th>Address</th>\n",
       "      <th>X</th>\n",
       "      <th>Y</th>\n",
       "      <th>Location</th>\n",
       "      <th>PdId</th>\n",
       "    </tr>\n",
       "  </thead>\n",
       "  <tbody>\n",
       "    <tr>\n",
       "      <th>0</th>\n",
       "      <td>150060275</td>\n",
       "      <td>NON-CRIMINAL</td>\n",
       "      <td>LOST PROPERTY</td>\n",
       "      <td>Monday</td>\n",
       "      <td>01/19/2015</td>\n",
       "      <td>14:00</td>\n",
       "      <td>MISSION</td>\n",
       "      <td>NONE</td>\n",
       "      <td>18TH ST / VALENCIA ST</td>\n",
       "      <td>-122.421582</td>\n",
       "      <td>37.761701</td>\n",
       "      <td>(37.7617007179518, -122.42158168137)</td>\n",
       "      <td>15006027571000</td>\n",
       "    </tr>\n",
       "    <tr>\n",
       "      <th>1</th>\n",
       "      <td>150098210</td>\n",
       "      <td>ROBBERY</td>\n",
       "      <td>ROBBERY, BODILY FORCE</td>\n",
       "      <td>Sunday</td>\n",
       "      <td>02/01/2015</td>\n",
       "      <td>15:45</td>\n",
       "      <td>TENDERLOIN</td>\n",
       "      <td>NONE</td>\n",
       "      <td>300 Block of LEAVENWORTH ST</td>\n",
       "      <td>-122.414406</td>\n",
       "      <td>37.784191</td>\n",
       "      <td>(37.7841907151119, -122.414406029855)</td>\n",
       "      <td>15009821003074</td>\n",
       "    </tr>\n",
       "    <tr>\n",
       "      <th>2</th>\n",
       "      <td>150098210</td>\n",
       "      <td>ASSAULT</td>\n",
       "      <td>AGGRAVATED ASSAULT WITH BODILY FORCE</td>\n",
       "      <td>Sunday</td>\n",
       "      <td>02/01/2015</td>\n",
       "      <td>15:45</td>\n",
       "      <td>TENDERLOIN</td>\n",
       "      <td>NONE</td>\n",
       "      <td>300 Block of LEAVENWORTH ST</td>\n",
       "      <td>-122.414406</td>\n",
       "      <td>37.784191</td>\n",
       "      <td>(37.7841907151119, -122.414406029855)</td>\n",
       "      <td>15009821004014</td>\n",
       "    </tr>\n",
       "    <tr>\n",
       "      <th>3</th>\n",
       "      <td>150098210</td>\n",
       "      <td>SECONDARY CODES</td>\n",
       "      <td>DOMESTIC VIOLENCE</td>\n",
       "      <td>Sunday</td>\n",
       "      <td>02/01/2015</td>\n",
       "      <td>15:45</td>\n",
       "      <td>TENDERLOIN</td>\n",
       "      <td>NONE</td>\n",
       "      <td>300 Block of LEAVENWORTH ST</td>\n",
       "      <td>-122.414406</td>\n",
       "      <td>37.784191</td>\n",
       "      <td>(37.7841907151119, -122.414406029855)</td>\n",
       "      <td>15009821015200</td>\n",
       "    </tr>\n",
       "    <tr>\n",
       "      <th>4</th>\n",
       "      <td>150098226</td>\n",
       "      <td>VANDALISM</td>\n",
       "      <td>MALICIOUS MISCHIEF, VANDALISM OF VEHICLES</td>\n",
       "      <td>Tuesday</td>\n",
       "      <td>01/27/2015</td>\n",
       "      <td>19:00</td>\n",
       "      <td>NORTHERN</td>\n",
       "      <td>NONE</td>\n",
       "      <td>LOMBARD ST / LAGUNA ST</td>\n",
       "      <td>-122.431119</td>\n",
       "      <td>37.800469</td>\n",
       "      <td>(37.8004687042875, -122.431118543788)</td>\n",
       "      <td>15009822628160</td>\n",
       "    </tr>\n",
       "  </tbody>\n",
       "</table>\n",
       "</div>"
      ],
      "text/plain": [
       "   IncidntNum         Category                                   Descript  \\\n",
       "0   150060275     NON-CRIMINAL                              LOST PROPERTY   \n",
       "1   150098210          ROBBERY                      ROBBERY, BODILY FORCE   \n",
       "2   150098210          ASSAULT       AGGRAVATED ASSAULT WITH BODILY FORCE   \n",
       "3   150098210  SECONDARY CODES                          DOMESTIC VIOLENCE   \n",
       "4   150098226        VANDALISM  MALICIOUS MISCHIEF, VANDALISM OF VEHICLES   \n",
       "\n",
       "  DayOfWeek        Date   Time  PdDistrict Resolution  \\\n",
       "0    Monday  01/19/2015  14:00     MISSION       NONE   \n",
       "1    Sunday  02/01/2015  15:45  TENDERLOIN       NONE   \n",
       "2    Sunday  02/01/2015  15:45  TENDERLOIN       NONE   \n",
       "3    Sunday  02/01/2015  15:45  TENDERLOIN       NONE   \n",
       "4   Tuesday  01/27/2015  19:00    NORTHERN       NONE   \n",
       "\n",
       "                       Address           X          Y  \\\n",
       "0        18TH ST / VALENCIA ST -122.421582  37.761701   \n",
       "1  300 Block of LEAVENWORTH ST -122.414406  37.784191   \n",
       "2  300 Block of LEAVENWORTH ST -122.414406  37.784191   \n",
       "3  300 Block of LEAVENWORTH ST -122.414406  37.784191   \n",
       "4       LOMBARD ST / LAGUNA ST -122.431119  37.800469   \n",
       "\n",
       "                                Location            PdId  \n",
       "0   (37.7617007179518, -122.42158168137)  15006027571000  \n",
       "1  (37.7841907151119, -122.414406029855)  15009821003074  \n",
       "2  (37.7841907151119, -122.414406029855)  15009821004014  \n",
       "3  (37.7841907151119, -122.414406029855)  15009821015200  \n",
       "4  (37.8004687042875, -122.431118543788)  15009822628160  "
      ]
     },
     "execution_count": 5,
     "metadata": {},
     "output_type": "execute_result"
    }
   ],
   "source": [
    "sf_crime_Data.head()"
   ]
  },
  {
   "cell_type": "code",
   "execution_count": 83,
   "metadata": {
    "scrolled": true
   },
   "outputs": [
    {
     "data": {
      "text/plain": [
       "1"
      ]
     },
     "execution_count": 83,
     "metadata": {},
     "output_type": "execute_result"
    }
   ],
   "source": [
    "sf_crime_Data.isnull().values.sum()"
   ]
  },
  {
   "cell_type": "code",
   "execution_count": 85,
   "metadata": {},
   "outputs": [],
   "source": [
    "sf_crime_Data.dropna(axis=0,inplace=True)"
   ]
  },
  {
   "cell_type": "code",
   "execution_count": 7,
   "metadata": {},
   "outputs": [
    {
     "data": {
      "text/plain": [
       "(array(['NON-CRIMINAL', 'ROBBERY', 'ASSAULT', 'SECONDARY CODES',\n",
       "        'VANDALISM', 'BURGLARY', 'LARCENY/THEFT', 'DRUG/NARCOTIC',\n",
       "        'WARRANTS', 'VEHICLE THEFT', 'OTHER OFFENSES', 'WEAPON LAWS',\n",
       "        'ARSON', 'MISSING PERSON', 'DRIVING UNDER THE INFLUENCE',\n",
       "        'SUSPICIOUS OCC', 'RECOVERED VEHICLE', 'DRUNKENNESS', 'TRESPASS',\n",
       "        'FRAUD', 'DISORDERLY CONDUCT', 'SEX OFFENSES, FORCIBLE',\n",
       "        'FORGERY/COUNTERFEITING', 'KIDNAPPING', 'EMBEZZLEMENT',\n",
       "        'STOLEN PROPERTY', 'LIQUOR LAWS', 'FAMILY OFFENSES', 'LOITERING',\n",
       "        'BAD CHECKS', 'TREA', 'GAMBLING', 'RUNAWAY', 'BRIBERY',\n",
       "        'PROSTITUTION', 'PORNOGRAPHY/OBSCENE MAT',\n",
       "        'SEX OFFENSES, NON FORCIBLE', 'SUICIDE', 'EXTORTION'], dtype=object),\n",
       " 39)"
      ]
     },
     "execution_count": 7,
     "metadata": {},
     "output_type": "execute_result"
    }
   ],
   "source": [
    "sf_crime_Data.Category.unique(),len(sf_crime_Data.Category.unique())"
   ]
  },
  {
   "cell_type": "markdown",
   "metadata": {},
   "source": [
    "**39 categories of Crime reported**"
   ]
  },
  {
   "cell_type": "code",
   "execution_count": 3,
   "metadata": {},
   "outputs": [],
   "source": [
    "sf_crime_Data.Date = pd.to_datetime(sf_crime_Data.Date, format=\"%m/%d/%Y\")"
   ]
  },
  {
   "cell_type": "code",
   "execution_count": 4,
   "metadata": {},
   "outputs": [],
   "source": [
    "sf_crime_Data.Time = pd.to_datetime(sf_crime_Data.Time,format='%H:%M')"
   ]
  },
  {
   "cell_type": "code",
   "execution_count": 6,
   "metadata": {},
   "outputs": [
    {
     "data": {
      "text/plain": [
       "'2015-02-01 00:00:00 1900-01-01 15:45:00'"
      ]
     },
     "execution_count": 6,
     "metadata": {},
     "output_type": "execute_result"
    }
   ],
   "source": [
    "str(sf_crime_Data.Date[1]) + \" \" + str(sf_crime_Data.Time[1])"
   ]
  },
  {
   "cell_type": "code",
   "execution_count": 32,
   "metadata": {},
   "outputs": [],
   "source": [
    "pd_categ_df = sf_crime_Data.groupby(['PdDistrict','Category']).size()"
   ]
  },
  {
   "cell_type": "code",
   "execution_count": 39,
   "metadata": {},
   "outputs": [],
   "source": [
    "pd_categ_df = sf_crime_Data.groupby(['PdDistrict','Category']).size().reset_index(name='Number_of_Crimes')"
   ]
  },
  {
   "cell_type": "code",
   "execution_count": 46,
   "metadata": {},
   "outputs": [
    {
     "data": {
      "text/plain": [
       "Index([u'PdDistrict', u'Category', u'Number_of_Crimes'], dtype='object')"
      ]
     },
     "execution_count": 46,
     "metadata": {},
     "output_type": "execute_result"
    }
   ],
   "source": [
    "pd_categ_df.columns"
   ]
  },
  {
   "cell_type": "code",
   "execution_count": 51,
   "metadata": {},
   "outputs": [],
   "source": [
    "sorted_pd_catg_df = pd_categ_df.sort_values(['PdDistrict', 'Number_of_Crimes'],ascending=False).groupby('PdDistrict').head(3)"
   ]
  },
  {
   "cell_type": "code",
   "execution_count": 71,
   "metadata": {},
   "outputs": [
    {
     "data": {
      "image/png": "[encoded data removed]",
      "text/plain": [
       "<Figure size 1152x864 with 1 Axes>"
      ]
     },
     "metadata": {},
     "output_type": "display_data"
    }
   ],
   "source": [
    "import matplotlib.pyplot as plt\n",
    "fig, ax = plt.subplots(figsize=(16,12))\n",
    "sns.barplot(x='PdDistrict', y='Number_of_Crimes', hue='Category', data=sorted_pd_catg_df, saturation=0.8,ax=ax)\n",
    "plt.ylabel('Number of Crimes')\n",
    "plt.legend(loc='upper right')\n",
    "plt.title('Plot of Number of Crime Category per PdDistrict')\n",
    "plt.show()\n"
   ]
  },
  {
   "cell_type": "markdown",
   "metadata": {},
   "source": [
    "**Insight**: This plot indicates the top 3 crimes per Police Department District. It is evident from the plots that LARCENY/THEFT is the most committed crime and has happened maximum in the Southern district."
   ]
  },
  {
   "cell_type": "code",
   "execution_count": 104,
   "metadata": {},
   "outputs": [],
   "source": [
    "from statsmodels.graphics.tsaplots import plot_acf,plot_pacf\n",
    "crime_per_hour = sf_crime_Data.groupby(sf_crime_Data.Time.dt.hour).size().reset_index(name='Count_of_Crimes')"
   ]
  },
  {
   "cell_type": "code",
   "execution_count": 110,
   "metadata": {},
   "outputs": [
    {
     "data": {
      "text/plain": [
       "<matplotlib.axes._subplots.AxesSubplot at 0x11fb15ed0>"
      ]
     },
     "execution_count": 110,
     "metadata": {},
     "output_type": "execute_result"
    },
    {
     "data": {
      "image/png": "[encoded data removed]",
      "text/plain": [
       "<Figure size 576x396 with 1 Axes>"
      ]
     },
     "metadata": {},
     "output_type": "display_data"
    }
   ],
   "source": [
    "crime_per_hour.plot(x='Time',y='Count_of_Crimes')"
   ]
  },
  {
   "cell_type": "markdown",
   "metadata": {},
   "source": [
    "**This plot gives us the insight that there is hike in number of crimes during 11AM to 2PM and increases to a maximum at around 5PM.**"
   ]
  },
  {
   "cell_type": "code",
   "execution_count": 111,
   "metadata": {},
   "outputs": [
    {
     "data": {
      "text/plain": [
       "Index([u'IncidntNum', u'Category', u'Descript', u'DayOfWeek', u'Date', u'Time',\n",
       "       u'PdDistrict', u'Resolution', u'Address', u'X', u'Y', u'Location',\n",
       "       u'PdId'],\n",
       "      dtype='object')"
      ]
     },
     "execution_count": 111,
     "metadata": {},
     "output_type": "execute_result"
    }
   ],
   "source": [
    "sf_crime_Data.columns"
   ]
  },
  {
   "cell_type": "code",
   "execution_count": 113,
   "metadata": {},
   "outputs": [
    {
     "data": {
      "text/plain": [
       "array(['Monday', 'Sunday', 'Tuesday', 'Saturday', 'Friday', 'Wednesday',\n",
       "       'Thursday'], dtype=object)"
      ]
     },
     "execution_count": 113,
     "metadata": {},
     "output_type": "execute_result"
    }
   ],
   "source": [
    "sf_crime_Data.DayOfWeek.unique()"
   ]
  },
  {
   "cell_type": "code",
   "execution_count": 118,
   "metadata": {},
   "outputs": [],
   "source": [
    "pd_catg_daily_df = sf_crime_Data.groupby(['DayOfWeek','Category']).size().reset_index(name='Count_of_crimes')"
   ]
  },
  {
   "cell_type": "code",
   "execution_count": 121,
   "metadata": {},
   "outputs": [],
   "source": [
    "sorted_pd_catg_daily_df = pd_catg_daily_df.sort_values(['DayOfWeek', 'Count_of_crimes'],ascending=False).groupby('DayOfWeek').head(3)"
   ]
  },
  {
   "cell_type": "code",
   "execution_count": 125,
   "metadata": {},
   "outputs": [],
   "source": [
    "sorted_pd_catg_daily_df['DayOfWeek'] = pd.Categorical(sorted_pd_catg_daily_df['DayOfWeek'], categories=['Monday','Tuesday','Wednesday','Thursday','Friday','Saturday', 'Sunday'], ordered=True)\n"
   ]
  },
  {
   "cell_type": "code",
   "execution_count": 126,
   "metadata": {},
   "outputs": [
    {
     "data": {
      "text/plain": [
       "[Wednesday, Tuesday, Thursday, Sunday, Saturday, Monday, Friday]\n",
       "Categories (7, object): [Monday < Tuesday < Wednesday < Thursday < Friday < Saturday < Sunday]"
      ]
     },
     "execution_count": 126,
     "metadata": {},
     "output_type": "execute_result"
    }
   ],
   "source": [
    "sorted_pd_catg_daily_df.DayOfWeek.unique()"
   ]
  },
  {
   "cell_type": "code",
   "execution_count": 127,
   "metadata": {},
   "outputs": [
    {
     "data": {
      "image/png": "[encoded data removed]",
      "text/plain": [
       "<Figure size 1152x864 with 1 Axes>"
      ]
     },
     "metadata": {},
     "output_type": "display_data"
    }
   ],
   "source": [
    "fig, ax = plt.subplots(figsize=(16,12))\n",
    "sns.barplot(x='DayOfWeek', y='Count_of_crimes', hue='Category', data=sorted_pd_catg_daily_df, saturation=0.8,ax=ax)\n",
    "plt.ylabel('Count of Crimes')\n",
    "plt.legend(loc='upper right')\n",
    "plt.title('Plot of Number of Crime Category per day')\n",
    "plt.show()\n"
   ]
  },
  {
   "cell_type": "markdown",
   "metadata": {},
   "source": [
    "**Insight:** The maximum number of thefts was committed on weekends, Friday and Saturday."
   ]
  },
  {
   "cell_type": "code",
   "execution_count": 25,
   "metadata": {},
   "outputs": [
    {
     "data": {
      "text/plain": [
       "(Timestamp('2018-05-15 10:30:00'), Timestamp('2017-01-01 00:01:00'))"
      ]
     },
     "execution_count": 25,
     "metadata": {},
     "output_type": "execute_result"
    }
   ],
   "source": [
    "data_extract_Df = sf_crime_Data.loc['2017-01-01':]\n",
    "data_extract_Df.index.max(),data_extract_Df.index.min()"
   ]
  },
  {
   "cell_type": "code",
   "execution_count": 32,
   "metadata": {},
   "outputs": [],
   "source": [
    "data_extract_Df.to_csv('./Data/data_extract.csv')"
   ]
  },
  {
   "cell_type": "code",
   "execution_count": 26,
   "metadata": {},
   "outputs": [
    {
     "data": {
      "text/plain": [
       "201441"
      ]
     },
     "execution_count": 26,
     "metadata": {},
     "output_type": "execute_result"
    }
   ],
   "source": [
    "len(data_extract_Df)"
   ]
  },
  {
   "cell_type": "code",
   "execution_count": 33,
   "metadata": {},
   "outputs": [
    {
     "data": {
      "text/plain": [
       "15"
      ]
     },
     "execution_count": 33,
     "metadata": {},
     "output_type": "execute_result"
    }
   ],
   "source": [
    "len(data_extract_Df.Resolution.unique())"
   ]
  },
  {
   "cell_type": "code",
   "execution_count": 27,
   "metadata": {},
   "outputs": [
    {
     "data": {
      "text/html": [
       "<div>\n",
       "<style>\n",
       "    .dataframe thead tr:only-child th {\n",
       "        text-align: right;\n",
       "    }\n",
       "\n",
       "    .dataframe thead th {\n",
       "        text-align: left;\n",
       "    }\n",
       "\n",
       "    .dataframe tbody tr th {\n",
       "        vertical-align: top;\n",
       "    }\n",
       "</style>\n",
       "<table border=\"1\" class=\"dataframe\">\n",
       "  <thead>\n",
       "    <tr style=\"text-align: right;\">\n",
       "      <th></th>\n",
       "      <th>IncidntNum</th>\n",
       "      <th>Category</th>\n",
       "      <th>Descript</th>\n",
       "      <th>DayOfWeek</th>\n",
       "      <th>Date</th>\n",
       "      <th>Time</th>\n",
       "      <th>PdDistrict</th>\n",
       "      <th>Resolution</th>\n",
       "      <th>Address</th>\n",
       "      <th>X</th>\n",
       "      <th>Y</th>\n",
       "      <th>Location</th>\n",
       "      <th>PdId</th>\n",
       "    </tr>\n",
       "    <tr>\n",
       "      <th>TS</th>\n",
       "      <th></th>\n",
       "      <th></th>\n",
       "      <th></th>\n",
       "      <th></th>\n",
       "      <th></th>\n",
       "      <th></th>\n",
       "      <th></th>\n",
       "      <th></th>\n",
       "      <th></th>\n",
       "      <th></th>\n",
       "      <th></th>\n",
       "      <th></th>\n",
       "      <th></th>\n",
       "    </tr>\n",
       "  </thead>\n",
       "  <tbody>\n",
       "    <tr>\n",
       "      <th>2017-01-01 00:01:00</th>\n",
       "      <td>170583332</td>\n",
       "      <td>OTHER OFFENSES</td>\n",
       "      <td>FALSE PERSONATION</td>\n",
       "      <td>Sunday</td>\n",
       "      <td>01/01/2017</td>\n",
       "      <td>00:01</td>\n",
       "      <td>BAYVIEW</td>\n",
       "      <td>NONE</td>\n",
       "      <td>1100 Block of WISCONSIN ST</td>\n",
       "      <td>-122.398473</td>\n",
       "      <td>37.753148</td>\n",
       "      <td>(37.75314834602312, -122.3984731227604)</td>\n",
       "      <td>17058333209027</td>\n",
       "    </tr>\n",
       "    <tr>\n",
       "      <th>2017-01-01 00:01:00</th>\n",
       "      <td>176008376</td>\n",
       "      <td>LARCENY/THEFT</td>\n",
       "      <td>PETTY THEFT OF PROPERTY</td>\n",
       "      <td>Sunday</td>\n",
       "      <td>01/01/2017</td>\n",
       "      <td>00:01</td>\n",
       "      <td>TARAVAL</td>\n",
       "      <td>NONE</td>\n",
       "      <td>1200 Block of OCEAN AV</td>\n",
       "      <td>-122.455616</td>\n",
       "      <td>37.723859</td>\n",
       "      <td>(37.72385901200105, -122.45561586153802)</td>\n",
       "      <td>17600837606372</td>\n",
       "    </tr>\n",
       "    <tr>\n",
       "      <th>2017-01-01 00:01:00</th>\n",
       "      <td>170152078</td>\n",
       "      <td>NON-CRIMINAL</td>\n",
       "      <td>LOST PROPERTY</td>\n",
       "      <td>Sunday</td>\n",
       "      <td>01/01/2017</td>\n",
       "      <td>00:01</td>\n",
       "      <td>MISSION</td>\n",
       "      <td>NONE</td>\n",
       "      <td>16TH ST / MISSION ST</td>\n",
       "      <td>-122.419672</td>\n",
       "      <td>37.765050</td>\n",
       "      <td>(37.76505012146682, -122.41967178029562)</td>\n",
       "      <td>17015207871000</td>\n",
       "    </tr>\n",
       "    <tr>\n",
       "      <th>2017-01-01 00:01:00</th>\n",
       "      <td>170730862</td>\n",
       "      <td>NON-CRIMINAL</td>\n",
       "      <td>LOST PROPERTY</td>\n",
       "      <td>Sunday</td>\n",
       "      <td>01/01/2017</td>\n",
       "      <td>00:01</td>\n",
       "      <td>TARAVAL</td>\n",
       "      <td>NONE</td>\n",
       "      <td>4600 Block of LINCOLN WY</td>\n",
       "      <td>-122.507802</td>\n",
       "      <td>37.764007</td>\n",
       "      <td>(37.76400685085615, -122.5078015077359)</td>\n",
       "      <td>17073086271000</td>\n",
       "    </tr>\n",
       "    <tr>\n",
       "      <th>2017-01-01 00:01:00</th>\n",
       "      <td>171033817</td>\n",
       "      <td>SUSPICIOUS OCC</td>\n",
       "      <td>SUSPICIOUS OCCURRENCE</td>\n",
       "      <td>Sunday</td>\n",
       "      <td>01/01/2017</td>\n",
       "      <td>00:01</td>\n",
       "      <td>TENDERLOIN</td>\n",
       "      <td>NONE</td>\n",
       "      <td>100 Block of GOLDEN GATE AV</td>\n",
       "      <td>-122.413070</td>\n",
       "      <td>37.782020</td>\n",
       "      <td>(37.78202042558663, -122.4130699263972)</td>\n",
       "      <td>17103381764070</td>\n",
       "    </tr>\n",
       "  </tbody>\n",
       "</table>\n",
       "</div>"
      ],
      "text/plain": [
       "                     IncidntNum        Category                 Descript  \\\n",
       "TS                                                                         \n",
       "2017-01-01 00:01:00   170583332  OTHER OFFENSES        FALSE PERSONATION   \n",
       "2017-01-01 00:01:00   176008376   LARCENY/THEFT  PETTY THEFT OF PROPERTY   \n",
       "2017-01-01 00:01:00   170152078    NON-CRIMINAL            LOST PROPERTY   \n",
       "2017-01-01 00:01:00   170730862    NON-CRIMINAL            LOST PROPERTY   \n",
       "2017-01-01 00:01:00   171033817  SUSPICIOUS OCC    SUSPICIOUS OCCURRENCE   \n",
       "\n",
       "                    DayOfWeek        Date   Time  PdDistrict Resolution  \\\n",
       "TS                                                                        \n",
       "2017-01-01 00:01:00    Sunday  01/01/2017  00:01     BAYVIEW       NONE   \n",
       "2017-01-01 00:01:00    Sunday  01/01/2017  00:01     TARAVAL       NONE   \n",
       "2017-01-01 00:01:00    Sunday  01/01/2017  00:01     MISSION       NONE   \n",
       "2017-01-01 00:01:00    Sunday  01/01/2017  00:01     TARAVAL       NONE   \n",
       "2017-01-01 00:01:00    Sunday  01/01/2017  00:01  TENDERLOIN       NONE   \n",
       "\n",
       "                                         Address           X          Y  \\\n",
       "TS                                                                        \n",
       "2017-01-01 00:01:00   1100 Block of WISCONSIN ST -122.398473  37.753148   \n",
       "2017-01-01 00:01:00       1200 Block of OCEAN AV -122.455616  37.723859   \n",
       "2017-01-01 00:01:00         16TH ST / MISSION ST -122.419672  37.765050   \n",
       "2017-01-01 00:01:00     4600 Block of LINCOLN WY -122.507802  37.764007   \n",
       "2017-01-01 00:01:00  100 Block of GOLDEN GATE AV -122.413070  37.782020   \n",
       "\n",
       "                                                     Location            PdId  \n",
       "TS                                                                             \n",
       "2017-01-01 00:01:00   (37.75314834602312, -122.3984731227604)  17058333209027  \n",
       "2017-01-01 00:01:00  (37.72385901200105, -122.45561586153802)  17600837606372  \n",
       "2017-01-01 00:01:00  (37.76505012146682, -122.41967178029562)  17015207871000  \n",
       "2017-01-01 00:01:00   (37.76400685085615, -122.5078015077359)  17073086271000  \n",
       "2017-01-01 00:01:00   (37.78202042558663, -122.4130699263972)  17103381764070  "
      ]
     },
     "execution_count": 27,
     "metadata": {},
     "output_type": "execute_result"
    }
   ],
   "source": [
    "data_extract_Df.head()"
   ]
  },
  {
   "cell_type": "markdown",
   "metadata": {},
   "source": [
    "**Since the full dataset consists of ~2 mil records, we narrow down to an extract from 1st Jan, 2017 to 15th May, 2018 consisting of 201441 records.**"
   ]
  },
  {
   "cell_type": "markdown",
   "metadata": {},
   "source": [
    "## Modelling on extract of data"
   ]
  },
  {
   "cell_type": "code",
   "execution_count": 2,
   "metadata": {},
   "outputs": [],
   "source": [
    "data_extract_Df = pd.read_csv('./Data/data_extract.csv')"
   ]
  },
  {
   "cell_type": "code",
   "execution_count": 3,
   "metadata": {},
   "outputs": [],
   "source": [
    "data_extract_Df.TS = pd.to_datetime(data_extract_Df.TS, format=\"%Y-%m-%d %H:%M:%S\")"
   ]
  },
  {
   "cell_type": "code",
   "execution_count": 4,
   "metadata": {},
   "outputs": [],
   "source": [
    "data_extract_Df.Date = pd.to_datetime(data_extract_Df.Date, format=\"%m/%d/%Y\")\n",
    "data_extract_Df.Time = pd.to_datetime(data_extract_Df.Time,format='%H:%M')"
   ]
  },
  {
   "cell_type": "code",
   "execution_count": 5,
   "metadata": {},
   "outputs": [
    {
     "data": {
      "text/plain": [
       "Index([u'TS', u'IncidntNum', u'Category', u'Descript', u'DayOfWeek', u'Date',\n",
       "       u'Time', u'PdDistrict', u'Resolution', u'Address', u'X', u'Y',\n",
       "       u'Location', u'PdId'],\n",
       "      dtype='object')"
      ]
     },
     "execution_count": 5,
     "metadata": {},
     "output_type": "execute_result"
    }
   ],
   "source": [
    "data_extract_Df.columns"
   ]
  },
  {
   "cell_type": "code",
   "execution_count": 6,
   "metadata": {},
   "outputs": [],
   "source": [
    "list_of_selected_cols = ['Category','DayOfWeek','PdDistrict','Resolution','X','Y']\n",
    "train_data = data_extract_Df[list_of_selected_cols]"
   ]
  },
  {
   "cell_type": "code",
   "execution_count": 7,
   "metadata": {},
   "outputs": [
    {
     "data": {
      "text/plain": [
       "Index([u'Category', u'DayOfWeek', u'PdDistrict', u'Resolution', u'X', u'Y'], dtype='object')"
      ]
     },
     "execution_count": 7,
     "metadata": {},
     "output_type": "execute_result"
    }
   ],
   "source": [
    "train_data.columns"
   ]
  },
  {
   "cell_type": "code",
   "execution_count": 8,
   "metadata": {},
   "outputs": [
    {
     "data": {
      "text/html": [
       "<div>\n",
       "<style>\n",
       "    .dataframe thead tr:only-child th {\n",
       "        text-align: right;\n",
       "    }\n",
       "\n",
       "    .dataframe thead th {\n",
       "        text-align: left;\n",
       "    }\n",
       "\n",
       "    .dataframe tbody tr th {\n",
       "        vertical-align: top;\n",
       "    }\n",
       "</style>\n",
       "<table border=\"1\" class=\"dataframe\">\n",
       "  <thead>\n",
       "    <tr style=\"text-align: right;\">\n",
       "      <th></th>\n",
       "      <th>Category</th>\n",
       "      <th>DayOfWeek</th>\n",
       "      <th>PdDistrict</th>\n",
       "      <th>Resolution</th>\n",
       "      <th>X</th>\n",
       "      <th>Y</th>\n",
       "    </tr>\n",
       "  </thead>\n",
       "  <tbody>\n",
       "    <tr>\n",
       "      <th>0</th>\n",
       "      <td>OTHER OFFENSES</td>\n",
       "      <td>Sunday</td>\n",
       "      <td>BAYVIEW</td>\n",
       "      <td>NONE</td>\n",
       "      <td>-122.398473</td>\n",
       "      <td>37.753148</td>\n",
       "    </tr>\n",
       "    <tr>\n",
       "      <th>1</th>\n",
       "      <td>LARCENY/THEFT</td>\n",
       "      <td>Sunday</td>\n",
       "      <td>TARAVAL</td>\n",
       "      <td>NONE</td>\n",
       "      <td>-122.455616</td>\n",
       "      <td>37.723859</td>\n",
       "    </tr>\n",
       "    <tr>\n",
       "      <th>2</th>\n",
       "      <td>NON-CRIMINAL</td>\n",
       "      <td>Sunday</td>\n",
       "      <td>MISSION</td>\n",
       "      <td>NONE</td>\n",
       "      <td>-122.419672</td>\n",
       "      <td>37.765050</td>\n",
       "    </tr>\n",
       "    <tr>\n",
       "      <th>3</th>\n",
       "      <td>NON-CRIMINAL</td>\n",
       "      <td>Sunday</td>\n",
       "      <td>TARAVAL</td>\n",
       "      <td>NONE</td>\n",
       "      <td>-122.507802</td>\n",
       "      <td>37.764007</td>\n",
       "    </tr>\n",
       "    <tr>\n",
       "      <th>4</th>\n",
       "      <td>SUSPICIOUS OCC</td>\n",
       "      <td>Sunday</td>\n",
       "      <td>TENDERLOIN</td>\n",
       "      <td>NONE</td>\n",
       "      <td>-122.413070</td>\n",
       "      <td>37.782020</td>\n",
       "    </tr>\n",
       "  </tbody>\n",
       "</table>\n",
       "</div>"
      ],
      "text/plain": [
       "         Category DayOfWeek  PdDistrict Resolution           X          Y\n",
       "0  OTHER OFFENSES    Sunday     BAYVIEW       NONE -122.398473  37.753148\n",
       "1   LARCENY/THEFT    Sunday     TARAVAL       NONE -122.455616  37.723859\n",
       "2    NON-CRIMINAL    Sunday     MISSION       NONE -122.419672  37.765050\n",
       "3    NON-CRIMINAL    Sunday     TARAVAL       NONE -122.507802  37.764007\n",
       "4  SUSPICIOUS OCC    Sunday  TENDERLOIN       NONE -122.413070  37.782020"
      ]
     },
     "execution_count": 8,
     "metadata": {},
     "output_type": "execute_result"
    }
   ],
   "source": [
    "train_data.head()"
   ]
  },
  {
   "cell_type": "code",
   "execution_count": 10,
   "metadata": {},
   "outputs": [],
   "source": [
    "train_data['DayOfWeek'] = pd.Categorical(train_data['DayOfWeek'], categories=['Monday','Tuesday','Wednesday','Thursday','Friday','Saturday', 'Sunday'], ordered=True)"
   ]
  },
  {
   "cell_type": "code",
   "execution_count": 11,
   "metadata": {},
   "outputs": [],
   "source": [
    "train_data['Category']=train_data['Category'].astype('category')\n",
    "train_data['PdDistrict']=train_data['PdDistrict'].astype('category')\n",
    "train_data['Resolution']=train_data['Resolution'].astype('category')"
   ]
  },
  {
   "cell_type": "code",
   "execution_count": 12,
   "metadata": {
    "scrolled": true
   },
   "outputs": [
    {
     "name": "stdout",
     "output_type": "stream",
     "text": [
      "<class 'pandas.core.frame.DataFrame'>\n",
      "RangeIndex: 201441 entries, 0 to 201440\n",
      "Data columns (total 6 columns):\n",
      "Category      201441 non-null category\n",
      "DayOfWeek     201441 non-null category\n",
      "PdDistrict    201441 non-null category\n",
      "Resolution    201441 non-null category\n",
      "X             201441 non-null float64\n",
      "Y             201441 non-null float64\n",
      "dtypes: category(4), float64(2)\n",
      "memory usage: 3.8 MB\n"
     ]
    }
   ],
   "source": [
    "train_data.info()"
   ]
  },
  {
   "cell_type": "code",
   "execution_count": 16,
   "metadata": {},
   "outputs": [
    {
     "data": {
      "image/png": "[encoded data removed]",
      "text/plain": [
       "<Figure size 576x396 with 1 Axes>"
      ]
     },
     "metadata": {},
     "output_type": "display_data"
    }
   ],
   "source": [
    "train_data.groupby('Resolution').size().reset_index(name='Count of Crimes').plot.barh(x='Resolution')\n",
    "plt.title(\"Count of Crimes\")\n",
    "plt.show()"
   ]
  },
  {
   "cell_type": "markdown",
   "metadata": {},
   "source": [
    "This shows that the dataset is heavily imbalanced with **None** being the most highest in Resolution biasing the dataset."
   ]
  },
  {
   "cell_type": "markdown",
   "metadata": {},
   "source": [
    "## Data Preparation"
   ]
  },
  {
   "cell_type": "code",
   "execution_count": 13,
   "metadata": {},
   "outputs": [],
   "source": [
    "from sklearn.preprocessing import LabelEncoder"
   ]
  },
  {
   "cell_type": "code",
   "execution_count": 14,
   "metadata": {
    "scrolled": true
   },
   "outputs": [],
   "source": [
    "labels = train_data.Resolution.values\n",
    "le = LabelEncoder()\n",
    "le.fit(labels)\n",
    "transformed_labels = le.transform(labels)"
   ]
  },
  {
   "cell_type": "markdown",
   "metadata": {},
   "source": [
    "**Converting Categorical features to one-hot encoded format**"
   ]
  },
  {
   "cell_type": "code",
   "execution_count": 15,
   "metadata": {},
   "outputs": [],
   "source": [
    "transf_train_data = pd.get_dummies(train_data.loc[:,train_data.columns!='Resolution'])"
   ]
  },
  {
   "cell_type": "code",
   "execution_count": 16,
   "metadata": {},
   "outputs": [
    {
     "data": {
      "text/html": [
       "<div>\n",
       "<style>\n",
       "    .dataframe thead tr:only-child th {\n",
       "        text-align: right;\n",
       "    }\n",
       "\n",
       "    .dataframe thead th {\n",
       "        text-align: left;\n",
       "    }\n",
       "\n",
       "    .dataframe tbody tr th {\n",
       "        vertical-align: top;\n",
       "    }\n",
       "</style>\n",
       "<table border=\"1\" class=\"dataframe\">\n",
       "  <thead>\n",
       "    <tr style=\"text-align: right;\">\n",
       "      <th></th>\n",
       "      <th>X</th>\n",
       "      <th>Y</th>\n",
       "      <th>Category_ARSON</th>\n",
       "      <th>Category_ASSAULT</th>\n",
       "      <th>Category_BAD CHECKS</th>\n",
       "      <th>Category_BRIBERY</th>\n",
       "      <th>Category_BURGLARY</th>\n",
       "      <th>Category_DISORDERLY CONDUCT</th>\n",
       "      <th>Category_DRIVING UNDER THE INFLUENCE</th>\n",
       "      <th>Category_DRUG/NARCOTIC</th>\n",
       "      <th>...</th>\n",
       "      <th>PdDistrict_BAYVIEW</th>\n",
       "      <th>PdDistrict_CENTRAL</th>\n",
       "      <th>PdDistrict_INGLESIDE</th>\n",
       "      <th>PdDistrict_MISSION</th>\n",
       "      <th>PdDistrict_NORTHERN</th>\n",
       "      <th>PdDistrict_PARK</th>\n",
       "      <th>PdDistrict_RICHMOND</th>\n",
       "      <th>PdDistrict_SOUTHERN</th>\n",
       "      <th>PdDistrict_TARAVAL</th>\n",
       "      <th>PdDistrict_TENDERLOIN</th>\n",
       "    </tr>\n",
       "  </thead>\n",
       "  <tbody>\n",
       "    <tr>\n",
       "      <th>0</th>\n",
       "      <td>-122.398473</td>\n",
       "      <td>37.753148</td>\n",
       "      <td>0</td>\n",
       "      <td>0</td>\n",
       "      <td>0</td>\n",
       "      <td>0</td>\n",
       "      <td>0</td>\n",
       "      <td>0</td>\n",
       "      <td>0</td>\n",
       "      <td>0</td>\n",
       "      <td>...</td>\n",
       "      <td>1</td>\n",
       "      <td>0</td>\n",
       "      <td>0</td>\n",
       "      <td>0</td>\n",
       "      <td>0</td>\n",
       "      <td>0</td>\n",
       "      <td>0</td>\n",
       "      <td>0</td>\n",
       "      <td>0</td>\n",
       "      <td>0</td>\n",
       "    </tr>\n",
       "    <tr>\n",
       "      <th>1</th>\n",
       "      <td>-122.455616</td>\n",
       "      <td>37.723859</td>\n",
       "      <td>0</td>\n",
       "      <td>0</td>\n",
       "      <td>0</td>\n",
       "      <td>0</td>\n",
       "      <td>0</td>\n",
       "      <td>0</td>\n",
       "      <td>0</td>\n",
       "      <td>0</td>\n",
       "      <td>...</td>\n",
       "      <td>0</td>\n",
       "      <td>0</td>\n",
       "      <td>0</td>\n",
       "      <td>0</td>\n",
       "      <td>0</td>\n",
       "      <td>0</td>\n",
       "      <td>0</td>\n",
       "      <td>0</td>\n",
       "      <td>1</td>\n",
       "      <td>0</td>\n",
       "    </tr>\n",
       "    <tr>\n",
       "      <th>2</th>\n",
       "      <td>-122.419672</td>\n",
       "      <td>37.765050</td>\n",
       "      <td>0</td>\n",
       "      <td>0</td>\n",
       "      <td>0</td>\n",
       "      <td>0</td>\n",
       "      <td>0</td>\n",
       "      <td>0</td>\n",
       "      <td>0</td>\n",
       "      <td>0</td>\n",
       "      <td>...</td>\n",
       "      <td>0</td>\n",
       "      <td>0</td>\n",
       "      <td>0</td>\n",
       "      <td>1</td>\n",
       "      <td>0</td>\n",
       "      <td>0</td>\n",
       "      <td>0</td>\n",
       "      <td>0</td>\n",
       "      <td>0</td>\n",
       "      <td>0</td>\n",
       "    </tr>\n",
       "    <tr>\n",
       "      <th>3</th>\n",
       "      <td>-122.507802</td>\n",
       "      <td>37.764007</td>\n",
       "      <td>0</td>\n",
       "      <td>0</td>\n",
       "      <td>0</td>\n",
       "      <td>0</td>\n",
       "      <td>0</td>\n",
       "      <td>0</td>\n",
       "      <td>0</td>\n",
       "      <td>0</td>\n",
       "      <td>...</td>\n",
       "      <td>0</td>\n",
       "      <td>0</td>\n",
       "      <td>0</td>\n",
       "      <td>0</td>\n",
       "      <td>0</td>\n",
       "      <td>0</td>\n",
       "      <td>0</td>\n",
       "      <td>0</td>\n",
       "      <td>1</td>\n",
       "      <td>0</td>\n",
       "    </tr>\n",
       "    <tr>\n",
       "      <th>4</th>\n",
       "      <td>-122.413070</td>\n",
       "      <td>37.782020</td>\n",
       "      <td>0</td>\n",
       "      <td>0</td>\n",
       "      <td>0</td>\n",
       "      <td>0</td>\n",
       "      <td>0</td>\n",
       "      <td>0</td>\n",
       "      <td>0</td>\n",
       "      <td>0</td>\n",
       "      <td>...</td>\n",
       "      <td>0</td>\n",
       "      <td>0</td>\n",
       "      <td>0</td>\n",
       "      <td>0</td>\n",
       "      <td>0</td>\n",
       "      <td>0</td>\n",
       "      <td>0</td>\n",
       "      <td>0</td>\n",
       "      <td>0</td>\n",
       "      <td>1</td>\n",
       "    </tr>\n",
       "  </tbody>\n",
       "</table>\n",
       "<p>5 rows × 58 columns</p>\n",
       "</div>"
      ],
      "text/plain": [
       "            X          Y  Category_ARSON  Category_ASSAULT  \\\n",
       "0 -122.398473  37.753148               0                 0   \n",
       "1 -122.455616  37.723859               0                 0   \n",
       "2 -122.419672  37.765050               0                 0   \n",
       "3 -122.507802  37.764007               0                 0   \n",
       "4 -122.413070  37.782020               0                 0   \n",
       "\n",
       "   Category_BAD CHECKS  Category_BRIBERY  Category_BURGLARY  \\\n",
       "0                    0                 0                  0   \n",
       "1                    0                 0                  0   \n",
       "2                    0                 0                  0   \n",
       "3                    0                 0                  0   \n",
       "4                    0                 0                  0   \n",
       "\n",
       "   Category_DISORDERLY CONDUCT  Category_DRIVING UNDER THE INFLUENCE  \\\n",
       "0                            0                                     0   \n",
       "1                            0                                     0   \n",
       "2                            0                                     0   \n",
       "3                            0                                     0   \n",
       "4                            0                                     0   \n",
       "\n",
       "   Category_DRUG/NARCOTIC          ...            PdDistrict_BAYVIEW  \\\n",
       "0                       0          ...                             1   \n",
       "1                       0          ...                             0   \n",
       "2                       0          ...                             0   \n",
       "3                       0          ...                             0   \n",
       "4                       0          ...                             0   \n",
       "\n",
       "   PdDistrict_CENTRAL  PdDistrict_INGLESIDE  PdDistrict_MISSION  \\\n",
       "0                   0                     0                   0   \n",
       "1                   0                     0                   0   \n",
       "2                   0                     0                   1   \n",
       "3                   0                     0                   0   \n",
       "4                   0                     0                   0   \n",
       "\n",
       "   PdDistrict_NORTHERN  PdDistrict_PARK  PdDistrict_RICHMOND  \\\n",
       "0                    0                0                    0   \n",
       "1                    0                0                    0   \n",
       "2                    0                0                    0   \n",
       "3                    0                0                    0   \n",
       "4                    0                0                    0   \n",
       "\n",
       "   PdDistrict_SOUTHERN  PdDistrict_TARAVAL  PdDistrict_TENDERLOIN  \n",
       "0                    0                   0                      0  \n",
       "1                    0                   1                      0  \n",
       "2                    0                   0                      0  \n",
       "3                    0                   1                      0  \n",
       "4                    0                   0                      1  \n",
       "\n",
       "[5 rows x 58 columns]"
      ]
     },
     "execution_count": 16,
     "metadata": {},
     "output_type": "execute_result"
    }
   ],
   "source": [
    "transf_train_data.head()"
   ]
  },
  {
   "cell_type": "code",
   "execution_count": 45,
   "metadata": {},
   "outputs": [
    {
     "data": {
      "text/plain": [
       "(201441, 58)"
      ]
     },
     "execution_count": 45,
     "metadata": {},
     "output_type": "execute_result"
    }
   ],
   "source": [
    "transf_train_data.shape"
   ]
  },
  {
   "cell_type": "code",
   "execution_count": 50,
   "metadata": {},
   "outputs": [
    {
     "data": {
      "text/plain": [
       "(201441,)"
      ]
     },
     "execution_count": 50,
     "metadata": {},
     "output_type": "execute_result"
    }
   ],
   "source": [
    "transformed_labels.shape"
   ]
  },
  {
   "cell_type": "code",
   "execution_count": 115,
   "metadata": {},
   "outputs": [
    {
     "data": {
      "text/plain": [
       "(201441, 6)"
      ]
     },
     "execution_count": 115,
     "metadata": {},
     "output_type": "execute_result"
    }
   ],
   "source": [
    "train_data.shape"
   ]
  },
  {
   "cell_type": "markdown",
   "metadata": {},
   "source": [
    "**Train_Test split ratio: 80:20 with 1st 80% of data for the training of model and rest for testing**"
   ]
  },
  {
   "cell_type": "code",
   "execution_count": 17,
   "metadata": {},
   "outputs": [],
   "source": [
    "train_partition_index = int(0.8*transf_train_data.shape[0])\n",
    "\n",
    "train_x, train_y = transf_train_data.iloc[:train_partition_index,:], transformed_labels[:train_partition_index]\n",
    "test_x, test_y = transf_train_data.iloc[train_partition_index:,:], transformed_labels[train_partition_index:]\n"
   ]
  },
  {
   "cell_type": "code",
   "execution_count": 18,
   "metadata": {},
   "outputs": [
    {
     "data": {
      "text/plain": [
       "((161152, 58), (40289, 58), (161152,), (40289,))"
      ]
     },
     "execution_count": 18,
     "metadata": {},
     "output_type": "execute_result"
    }
   ],
   "source": [
    "train_x.shape,test_x.shape,train_y.shape,test_y.shape"
   ]
  },
  {
   "cell_type": "markdown",
   "metadata": {},
   "source": [
    "## Modelling using Random Forest Classifier"
   ]
  },
  {
   "cell_type": "markdown",
   "metadata": {},
   "source": [
    "Random Forest is a *bagging* technique which uses trees of weak classifiers to collectively find a strong classifier and as an enhancement to the normal bagging technique, it randomly selects set of features of the dataset to build classifiers or 'trees'. \n",
    "\n",
    "Since the dataset has high variance, Random Forest was one of the most suitable techniques for classification."
   ]
  },
  {
   "cell_type": "code",
   "execution_count": 19,
   "metadata": {},
   "outputs": [
    {
     "data": {
      "text/html": [
       "<div>\n",
       "<style>\n",
       "    .dataframe thead tr:only-child th {\n",
       "        text-align: right;\n",
       "    }\n",
       "\n",
       "    .dataframe thead th {\n",
       "        text-align: left;\n",
       "    }\n",
       "\n",
       "    .dataframe tbody tr th {\n",
       "        vertical-align: top;\n",
       "    }\n",
       "</style>\n",
       "<table border=\"1\" class=\"dataframe\">\n",
       "  <thead>\n",
       "    <tr style=\"text-align: right;\">\n",
       "      <th></th>\n",
       "      <th>X</th>\n",
       "      <th>Y</th>\n",
       "      <th>Category_ARSON</th>\n",
       "      <th>Category_ASSAULT</th>\n",
       "      <th>Category_BAD CHECKS</th>\n",
       "      <th>Category_BRIBERY</th>\n",
       "      <th>Category_BURGLARY</th>\n",
       "      <th>Category_DISORDERLY CONDUCT</th>\n",
       "      <th>Category_DRIVING UNDER THE INFLUENCE</th>\n",
       "      <th>Category_DRUG/NARCOTIC</th>\n",
       "      <th>...</th>\n",
       "      <th>PdDistrict_BAYVIEW</th>\n",
       "      <th>PdDistrict_CENTRAL</th>\n",
       "      <th>PdDistrict_INGLESIDE</th>\n",
       "      <th>PdDistrict_MISSION</th>\n",
       "      <th>PdDistrict_NORTHERN</th>\n",
       "      <th>PdDistrict_PARK</th>\n",
       "      <th>PdDistrict_RICHMOND</th>\n",
       "      <th>PdDistrict_SOUTHERN</th>\n",
       "      <th>PdDistrict_TARAVAL</th>\n",
       "      <th>PdDistrict_TENDERLOIN</th>\n",
       "    </tr>\n",
       "  </thead>\n",
       "  <tbody>\n",
       "    <tr>\n",
       "      <th>0</th>\n",
       "      <td>-122.398473</td>\n",
       "      <td>37.753148</td>\n",
       "      <td>0</td>\n",
       "      <td>0</td>\n",
       "      <td>0</td>\n",
       "      <td>0</td>\n",
       "      <td>0</td>\n",
       "      <td>0</td>\n",
       "      <td>0</td>\n",
       "      <td>0</td>\n",
       "      <td>...</td>\n",
       "      <td>1</td>\n",
       "      <td>0</td>\n",
       "      <td>0</td>\n",
       "      <td>0</td>\n",
       "      <td>0</td>\n",
       "      <td>0</td>\n",
       "      <td>0</td>\n",
       "      <td>0</td>\n",
       "      <td>0</td>\n",
       "      <td>0</td>\n",
       "    </tr>\n",
       "    <tr>\n",
       "      <th>1</th>\n",
       "      <td>-122.455616</td>\n",
       "      <td>37.723859</td>\n",
       "      <td>0</td>\n",
       "      <td>0</td>\n",
       "      <td>0</td>\n",
       "      <td>0</td>\n",
       "      <td>0</td>\n",
       "      <td>0</td>\n",
       "      <td>0</td>\n",
       "      <td>0</td>\n",
       "      <td>...</td>\n",
       "      <td>0</td>\n",
       "      <td>0</td>\n",
       "      <td>0</td>\n",
       "      <td>0</td>\n",
       "      <td>0</td>\n",
       "      <td>0</td>\n",
       "      <td>0</td>\n",
       "      <td>0</td>\n",
       "      <td>1</td>\n",
       "      <td>0</td>\n",
       "    </tr>\n",
       "    <tr>\n",
       "      <th>2</th>\n",
       "      <td>-122.419672</td>\n",
       "      <td>37.765050</td>\n",
       "      <td>0</td>\n",
       "      <td>0</td>\n",
       "      <td>0</td>\n",
       "      <td>0</td>\n",
       "      <td>0</td>\n",
       "      <td>0</td>\n",
       "      <td>0</td>\n",
       "      <td>0</td>\n",
       "      <td>...</td>\n",
       "      <td>0</td>\n",
       "      <td>0</td>\n",
       "      <td>0</td>\n",
       "      <td>1</td>\n",
       "      <td>0</td>\n",
       "      <td>0</td>\n",
       "      <td>0</td>\n",
       "      <td>0</td>\n",
       "      <td>0</td>\n",
       "      <td>0</td>\n",
       "    </tr>\n",
       "    <tr>\n",
       "      <th>3</th>\n",
       "      <td>-122.507802</td>\n",
       "      <td>37.764007</td>\n",
       "      <td>0</td>\n",
       "      <td>0</td>\n",
       "      <td>0</td>\n",
       "      <td>0</td>\n",
       "      <td>0</td>\n",
       "      <td>0</td>\n",
       "      <td>0</td>\n",
       "      <td>0</td>\n",
       "      <td>...</td>\n",
       "      <td>0</td>\n",
       "      <td>0</td>\n",
       "      <td>0</td>\n",
       "      <td>0</td>\n",
       "      <td>0</td>\n",
       "      <td>0</td>\n",
       "      <td>0</td>\n",
       "      <td>0</td>\n",
       "      <td>1</td>\n",
       "      <td>0</td>\n",
       "    </tr>\n",
       "    <tr>\n",
       "      <th>4</th>\n",
       "      <td>-122.413070</td>\n",
       "      <td>37.782020</td>\n",
       "      <td>0</td>\n",
       "      <td>0</td>\n",
       "      <td>0</td>\n",
       "      <td>0</td>\n",
       "      <td>0</td>\n",
       "      <td>0</td>\n",
       "      <td>0</td>\n",
       "      <td>0</td>\n",
       "      <td>...</td>\n",
       "      <td>0</td>\n",
       "      <td>0</td>\n",
       "      <td>0</td>\n",
       "      <td>0</td>\n",
       "      <td>0</td>\n",
       "      <td>0</td>\n",
       "      <td>0</td>\n",
       "      <td>0</td>\n",
       "      <td>0</td>\n",
       "      <td>1</td>\n",
       "    </tr>\n",
       "  </tbody>\n",
       "</table>\n",
       "<p>5 rows × 58 columns</p>\n",
       "</div>"
      ],
      "text/plain": [
       "            X          Y  Category_ARSON  Category_ASSAULT  \\\n",
       "0 -122.398473  37.753148               0                 0   \n",
       "1 -122.455616  37.723859               0                 0   \n",
       "2 -122.419672  37.765050               0                 0   \n",
       "3 -122.507802  37.764007               0                 0   \n",
       "4 -122.413070  37.782020               0                 0   \n",
       "\n",
       "   Category_BAD CHECKS  Category_BRIBERY  Category_BURGLARY  \\\n",
       "0                    0                 0                  0   \n",
       "1                    0                 0                  0   \n",
       "2                    0                 0                  0   \n",
       "3                    0                 0                  0   \n",
       "4                    0                 0                  0   \n",
       "\n",
       "   Category_DISORDERLY CONDUCT  Category_DRIVING UNDER THE INFLUENCE  \\\n",
       "0                            0                                     0   \n",
       "1                            0                                     0   \n",
       "2                            0                                     0   \n",
       "3                            0                                     0   \n",
       "4                            0                                     0   \n",
       "\n",
       "   Category_DRUG/NARCOTIC          ...            PdDistrict_BAYVIEW  \\\n",
       "0                       0          ...                             1   \n",
       "1                       0          ...                             0   \n",
       "2                       0          ...                             0   \n",
       "3                       0          ...                             0   \n",
       "4                       0          ...                             0   \n",
       "\n",
       "   PdDistrict_CENTRAL  PdDistrict_INGLESIDE  PdDistrict_MISSION  \\\n",
       "0                   0                     0                   0   \n",
       "1                   0                     0                   0   \n",
       "2                   0                     0                   1   \n",
       "3                   0                     0                   0   \n",
       "4                   0                     0                   0   \n",
       "\n",
       "   PdDistrict_NORTHERN  PdDistrict_PARK  PdDistrict_RICHMOND  \\\n",
       "0                    0                0                    0   \n",
       "1                    0                0                    0   \n",
       "2                    0                0                    0   \n",
       "3                    0                0                    0   \n",
       "4                    0                0                    0   \n",
       "\n",
       "   PdDistrict_SOUTHERN  PdDistrict_TARAVAL  PdDistrict_TENDERLOIN  \n",
       "0                    0                   0                      0  \n",
       "1                    0                   1                      0  \n",
       "2                    0                   0                      0  \n",
       "3                    0                   1                      0  \n",
       "4                    0                   0                      1  \n",
       "\n",
       "[5 rows x 58 columns]"
      ]
     },
     "execution_count": 19,
     "metadata": {},
     "output_type": "execute_result"
    }
   ],
   "source": [
    "train_x.head()"
   ]
  },
  {
   "cell_type": "code",
   "execution_count": 20,
   "metadata": {},
   "outputs": [],
   "source": [
    "from sklearn.ensemble import RandomForestClassifier"
   ]
  },
  {
   "cell_type": "code",
   "execution_count": 27,
   "metadata": {},
   "outputs": [],
   "source": [
    "from sklearn.metrics import recall_score,precision_score,confusion_matrix,accuracy_score,cohen_kappa_score\n",
    "import numpy as np"
   ]
  },
  {
   "cell_type": "code",
   "execution_count": 22,
   "metadata": {},
   "outputs": [],
   "source": [
    "class_names = le.inverse_transform(test_y)"
   ]
  },
  {
   "cell_type": "markdown",
   "metadata": {},
   "source": [
    "**It had been shown in the above dataset that Resolution category is highly imbalanced. Thus, 'balanced_subsample' is passed to class_weight to take care of the imbalance to avoid upsampling/downsampling** [[Documentation](http://scikit-learn.org/stable/modules/generated/sklearn.ensemble.RandomForestClassifier.html)]"
   ]
  },
  {
   "cell_type": "code",
   "execution_count": 25,
   "metadata": {},
   "outputs": [
    {
     "name": "stdout",
     "output_type": "stream",
     "text": [
      "Accuracy:\t0.566904117749\n",
      "Precision:\t0.835426998201\n",
      "Recall:\t0.566904117749\n"
     ]
    }
   ],
   "source": [
    "clf_1=RandomForestClassifier(n_estimators=100,max_depth=10,class_weight=\"balanced_subsample\")\n",
    "\n",
    "clf_1.fit(train_x,train_y)\n",
    "\n",
    "# prediction on test set\n",
    "pred_y = clf_1.predict(test_x)\n",
    "\n",
    "print \"Accuracy:\\t\",accuracy_score(test_y, pred_y)\n",
    "\n",
    "\n",
    "precision = precision_score(test_y, pred_y, average='weighted')  \n",
    "print \"Precision:\\t\",precision\n",
    "\n",
    "recall = recall_score(test_y, pred_y, average='weighted')  \n",
    "print \"Recall:\\t\",recall\n"
   ]
  },
  {
   "cell_type": "code",
   "execution_count": 28,
   "metadata": {},
   "outputs": [
    {
     "name": "stdout",
     "output_type": "stream",
     "text": [
      "Kappa_score:\t0.293918265095\n"
     ]
    }
   ],
   "source": [
    "kappa_score = cohen_kappa_score(test_y, pred_y)\n",
    "print \"Kappa_score:\\t\",kappa_score"
   ]
  },
  {
   "cell_type": "code",
   "execution_count": 31,
   "metadata": {},
   "outputs": [
    {
     "data": {
      "image/png": "[encoded data removed]",
      "text/plain": [
       "<Figure size 576x396 with 1 Axes>"
      ]
     },
     "metadata": {},
     "output_type": "display_data"
    }
   ],
   "source": [
    "feature_imp = pd.Series(clf_1.feature_importances_,index=train_x.columns).sort_values(ascending=False)\n",
    "\n",
    "# Creating a bar plot\n",
    "sns.barplot(x=feature_imp[:10], y=feature_imp.index[:10])\n",
    "# Add labels to your graph\n",
    "plt.xlabel('Feature Importance Score')\n",
    "plt.ylabel('Features')\n",
    "plt.title(\"Visualizing Top 10 Important Features\")\n",
    "plt.legend()\n",
    "plt.show()"
   ]
  },
  {
   "cell_type": "markdown",
   "metadata": {},
   "source": [
    "**This tells us that the features X and Y, precisely the location of the crime is major decider for the final classification of the crime**"
   ]
  },
  {
   "cell_type": "markdown",
   "metadata": {},
   "source": [
    "## GridsearchCV for parameter tuning"
   ]
  },
  {
   "cell_type": "code",
   "execution_count": null,
   "metadata": {},
   "outputs": [
    {
     "name": "stderr",
     "output_type": "stream",
     "text": [
      "/Users/achyutajha/anaconda/lib/python2.7/site-packages/sklearn/model_selection/_split.py:652: Warning: The least populated class in y has only 1 members, which is too few. The minimum number of members in any class cannot be less than n_splits=5.\n",
      "  % (min_groups, self.n_splits)), Warning)\n"
     ]
    }
   ],
   "source": [
    "%%time\n",
    "from sklearn.model_selection import GridSearchCV\n",
    "\n",
    "clf_2=RandomForestClassifier(n_estimators=100,class_weight=\"balanced_subsample\")\n",
    "\n",
    "param_grid = {\"max_depth\": [5, 10, None],\n",
    "              \"max_features\": [1, 3, 10],\n",
    "              \"min_samples_split\": [2, 3, 10],\n",
    "              \"bootstrap\": [True, False],\n",
    "              \"criterion\": [\"gini\", \"entropy\"]}\n",
    "\n",
    "# run grid search\n",
    "grid_search = GridSearchCV(clf_2, param_grid=param_grid, cv=5)\n",
    "grid_search.fit(train_x,train_y)"
   ]
  },
  {
   "cell_type": "code",
   "execution_count": 70,
   "metadata": {},
   "outputs": [],
   "source": [
    "pred_y = grid_search.predict(test_x)"
   ]
  },
  {
   "cell_type": "markdown",
   "metadata": {},
   "source": [
    "**Building same model as GridSearchCV's best model configuration**"
   ]
  },
  {
   "cell_type": "code",
   "execution_count": 32,
   "metadata": {},
   "outputs": [],
   "source": [
    "clf_grid = RandomForestClassifier(n_estimators=100,class_weight='balanced_subsample',max_depth= None,\\\n",
    "                                  max_features =10, min_samples_split = 10,\\\n",
    "                                  bootstrap  = True, criterion='entropy')"
   ]
  },
  {
   "cell_type": "code",
   "execution_count": 34,
   "metadata": {},
   "outputs": [
    {
     "name": "stdout",
     "output_type": "stream",
     "text": [
      "Accuracy:  0.784035344635\n",
      "Precision:  0.805934000327\n",
      "Recall:  0.784035344635\n"
     ]
    }
   ],
   "source": [
    "clf_grid.fit(train_x,train_y)\n",
    "\n",
    "# prediction on test set\n",
    "pred_y = clf_grid.predict(test_x)\n",
    "\n",
    "print \"Accuracy: \",accuracy_score(test_y, pred_y)\n",
    "\n",
    "\n",
    "precision = precision_score(test_y, pred_y, average='weighted')  \n",
    "print \"Precision: \",precision\n",
    "\n",
    "recall = recall_score(test_y, pred_y, average='weighted')  \n",
    "print \"Recall: \",recall"
   ]
  },
  {
   "cell_type": "code",
   "execution_count": 110,
   "metadata": {},
   "outputs": [
    {
     "data": {
      "text/plain": [
       "0.46211496750876957"
      ]
     },
     "execution_count": 110,
     "metadata": {},
     "output_type": "execute_result"
    }
   ],
   "source": [
    "kappa_score = metrics.cohen_kappa_score(test_y, pred_y)\n",
    "kappa_score"
   ]
  },
  {
   "cell_type": "code",
   "execution_count": 116,
   "metadata": {},
   "outputs": [
    {
     "data": {
      "image/png": "[encoded data removed]",
      "text/plain": [
       "<Figure size 576x396 with 1 Axes>"
      ]
     },
     "metadata": {},
     "output_type": "display_data"
    }
   ],
   "source": [
    "feature_imp = pd.Series(clf_grid.feature_importances_,index=train_x.columns).sort_values(ascending=False)\n",
    "\n",
    "# Creating a bar plot\n",
    "sns.barplot(x=feature_imp[:10], y=feature_imp.index[:10])\n",
    "# Add labels to your graph\n",
    "plt.xlabel('Feature Importance Score')\n",
    "plt.ylabel('Features')\n",
    "plt.title(\"Visualizing Top 10 Important Features\")\n",
    "plt.legend()\n",
    "plt.show()"
   ]
  },
  {
   "cell_type": "markdown",
   "metadata": {},
   "source": [
    "## Conclusion\n",
    "\n",
    "In the end the metrics for classification improved by the Hyperparameter Tuning. 'SMOTE' for oversampling or 'NearMiss' for undersampling can also be used to take care of the imbalanced dataset. \n",
    "Thus, with this analysis, the Police Department can prioritize the crimes depending on historic trend of the data."
   ]
  }
 ],
 "metadata": {
  "kernelspec": {
   "display_name": "Python 2",
   "language": "python",
   "name": "python2"
  },
  "language_info": {
   "codemirror_mode": {
    "name": "ipython",
    "version": 2
   },
   "file_extension": ".py",
   "mimetype": "text/x-python",
   "name": "python",
   "nbconvert_exporter": "python",
   "pygments_lexer": "ipython2",
   "version": "2.7.15"
  }
 },
 "nbformat": 4,
 "nbformat_minor": 2
}
